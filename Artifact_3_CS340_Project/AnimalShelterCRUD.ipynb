{
 "cells": [
  {
   "cell_type": "code",
   "execution_count": 1,
   "id": "bb38794e-1a72-4291-85cf-99e31a230701",
   "metadata": {},
   "outputs": [],
   "source": [
    "from pymongo import MongoClient\n",
    "\n",
    "class AnimalShelter(object):\n",
    "    \"\"\" CRUD operations for Animal collection in MongoDB \"\"\"\n",
    "\n",
    "    def __init__(self, db=\"AAC\", col=\"animals\"):\n",
    "        # Connect to local MongoDB and fail fast if not reachable\n",
    "        self.client = MongoClient(\"mongodb://127.0.0.1:27017\", serverSelectionTimeoutMS=3000)\n",
    "        self.client.server_info()  # immediate connectivity check\n",
    "        self.database = self.client[db]\n",
    "        self.collection = self.database[col]\n",
    "\n",
    "    # ---------- CRUD METHODS ----------\n",
    "\n",
    "    def create(self, data: dict):\n",
    "        if not isinstance(data, dict) or not data:\n",
    "            raise ValueError(\"Data must be a non-empty dictionary\")\n",
    "        return str(self.collection.insert_one(data).inserted_id)\n",
    "\n",
    "    def read(self, query: dict = None):\n",
    "        query = query or {}\n",
    "        return list(self.collection.find(query))\n",
    "\n",
    "    def update(self, query: dict, new_values: dict):\n",
    "        if not query or not new_values:\n",
    "            raise ValueError(\"Update requires both a query and new values\")\n",
    "        result = self.collection.update_many(query, {\"$set\": new_values})\n",
    "        return {\"matched\": result.matched_count, \"modified\": result.modified_count}\n",
    "\n",
    "    def delete(self, query: dict):\n",
    "        if not query:\n",
    "            raise ValueError(\"Delete requires a query for safety\")\n",
    "        result = self.collection.delete_many(query)\n",
    "        return {\"deleted\": result.deleted_count}"
   ]
  },
  {
   "cell_type": "code",
   "execution_count": 2,
   "id": "f604d6e6-e78b-46c7-97ea-51c3a2708921",
   "metadata": {},
   "outputs": [],
   "source": [
    "from pymongo import MongoClient\n",
    "\n",
    "class AnimalShelter(object):\n",
    "    def __init__(self, db=\"AAC\", col=\"animals\"):\n",
    "        self.client = MongoClient(\"mongodb://127.0.0.1:27017\", serverSelectionTimeoutMS=3000)\n",
    "        self.client.server_info()\n",
    "        self.database = self.client[db]\n",
    "        self.collection = self.database[col]\n",
    "\n",
    "    def create(self, data: dict):\n",
    "        return str(self.collection.insert_one(data).inserted_id)\n",
    "\n",
    "    def read(self, query: dict = None):\n",
    "        query = query or {}\n",
    "        return list(self.collection.find(query))\n",
    "\n",
    "    def update(self, query: dict, new_values: dict):\n",
    "        result = self.collection.update_many(query, {\"$set\": new_values})\n",
    "        return {\"matched\": result.matched_count, \"modified\": result.modified_count}\n",
    "\n",
    "    def delete(self, query: dict):\n",
    "        result = self.collection.delete_many(query)\n",
    "        return {\"deleted\": result.deleted_count}"
   ]
  },
  {
   "cell_type": "code",
   "execution_count": 3,
   "id": "cbb844d3-5626-4304-a1fe-8b6ad544de3f",
   "metadata": {},
   "outputs": [
    {
     "name": "stdout",
     "output_type": "stream",
     "text": [
      "Collection: animals\n",
      "Inserted: 68e60c666907bb508bfab645\n",
      "Read: [{'_id': ObjectId('68e60c666907bb508bfab645'), 'name': 'Fluffy', 'animal_type': 'Dog'}]\n"
     ]
    }
   ],
   "source": [
    "shelter = AnimalShelter()\n",
    "print(\"Collection:\", shelter.collection.name)\n",
    "\n",
    "# Create a first record\n",
    "new_id = shelter.create({\"name\": \"Fluffy\", \"animal_type\": \"Dog\"})\n",
    "print(\"Inserted:\", new_id)\n",
    "\n",
    "# Verify by reading back\n",
    "print(\"Read:\", shelter.read({\"animal_type\": \"Dog\"}))"
   ]
  },
  {
   "cell_type": "code",
   "execution_count": 4,
   "id": "edf46486-3cbb-4bb5-af81-35b3655ff735",
   "metadata": {},
   "outputs": [
    {
     "name": "stdout",
     "output_type": "stream",
     "text": [
      "Update: {'matched': 1, 'modified': 1}\n",
      "Read: []\n",
      "Read: [{'_id': ObjectId('68e60c666907bb508bfab645'), 'name': 'Fluffy', 'animal_type': 'Cat'}]\n"
     ]
    }
   ],
   "source": [
    "# Step 4: Update the record\n",
    "update_result = shelter.update({\"name\": \"Fluffy\"}, {\"animal_type\": \"Cat\"})\n",
    "print(\"Update:\", update_result)\n",
    "\n",
    "# Verify by reading back\n",
    "print(\"Read:\", shelter.read({\"animal_type\": \"Dog\"}))\n",
    "\n",
    "# Verify by reading back\n",
    "print(\"Read:\", shelter.read({\"animal_type\": \"Cat\"}))"
   ]
  },
  {
   "cell_type": "code",
   "execution_count": 5,
   "id": "20a6f47e-3348-4600-9a24-54144eaf2f16",
   "metadata": {},
   "outputs": [
    {
     "name": "stdout",
     "output_type": "stream",
     "text": [
      "Delete: {'deleted': 1}\n",
      "Read: []\n",
      "Read: []\n"
     ]
    }
   ],
   "source": [
    "# Step 5: Delete the record\n",
    "delete_result = shelter.delete({\"name\": \"Fluffy\"})\n",
    "print(\"Delete:\", delete_result)\n",
    "\n",
    "# Verify by reading back\n",
    "print(\"Read:\", shelter.read({\"animal_type\": \"Dog\"}))\n",
    "\n",
    "# Verify by reading back\n",
    "print(\"Read:\", shelter.read({\"animal_type\": \"Cat\"}))"
   ]
  },
  {
   "cell_type": "code",
   "execution_count": null,
   "id": "9f5c853e-f537-41c6-935c-28819b455a39",
   "metadata": {},
   "outputs": [],
   "source": []
  }
 ],
 "metadata": {
  "kernelspec": {
   "display_name": "Python (.venv CS340)",
   "language": "python",
   "name": "cs340-env"
  },
  "language_info": {
   "codemirror_mode": {
    "name": "ipython",
    "version": 3
   },
   "file_extension": ".py",
   "mimetype": "text/x-python",
   "name": "python",
   "nbconvert_exporter": "python",
   "pygments_lexer": "ipython3",
   "version": "3.11.9"
  }
 },
 "nbformat": 4,
 "nbformat_minor": 5
}
