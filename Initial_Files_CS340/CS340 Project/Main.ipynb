{
 "cells": [
  {
   "cell_type": "code",
   "execution_count": 1,
   "id": "5f4953ea",
   "metadata": {},
   "outputs": [],
   "source": [
    "from pymongo import MongoClient\n",
    "from AnimalShelterCRUD import AnimalShelter"
   ]
  },
  {
   "cell_type": "code",
   "execution_count": 2,
   "id": "cb7d7333",
   "metadata": {},
   "outputs": [],
   "source": [
    "shelter = AnimalShelter()"
   ]
  },
  {
   "cell_type": "code",
   "execution_count": 3,
   "id": "3105a99c",
   "metadata": {},
   "outputs": [],
   "source": [
    "#Create Test"
   ]
  },
  {
   "cell_type": "code",
   "execution_count": 4,
   "id": "c737c933",
   "metadata": {
    "scrolled": true
   },
   "outputs": [
    {
     "name": "stdout",
     "output_type": "stream",
     "text": [
      "True\n"
     ]
    }
   ],
   "source": [
    "print(shelter.create ([{  #create an animal with an animal id of Test to know this animal is for testing\n",
    "    'name': \"Max\",\n",
    "    'animal_id': \"Test\",\n",
    "    'animal_breed': \"Dog\",\n",
    "    'sex': \"Intact Male\",\n",
    "    'color': \"Brown\"\n",
    "}]))"
   ]
  },
  {
   "cell_type": "code",
   "execution_count": 5,
   "id": "691629de",
   "metadata": {},
   "outputs": [
    {
     "ename": "Exception",
     "evalue": "Nothing to save, because the data parameter is empty",
     "output_type": "error",
     "traceback": [
      "\u001b[0;31m---------------------------------------------------------------------------\u001b[0m",
      "\u001b[0;31mException\u001b[0m                                 Traceback (most recent call last)",
      "Input \u001b[0;32mIn [5]\u001b[0m, in \u001b[0;36m<cell line: 2>\u001b[0;34m()\u001b[0m\n\u001b[1;32m      1\u001b[0m empty_data\u001b[38;5;241m=\u001b[39m []  \u001b[38;5;66;03m#try creating an empty entry\u001b[39;00m\n\u001b[0;32m----> 2\u001b[0m \u001b[38;5;28mprint\u001b[39m(\u001b[43mshelter\u001b[49m\u001b[38;5;241;43m.\u001b[39;49m\u001b[43mcreate\u001b[49m\u001b[43m(\u001b[49m\u001b[43mempty_data\u001b[49m\u001b[43m)\u001b[49m)\n",
      "File \u001b[0;32m~/Desktop/CS340 Project/AnimalShelterCRUD.py:54\u001b[0m, in \u001b[0;36mAnimalShelter.create\u001b[0;34m(self, data)\u001b[0m\n\u001b[1;32m     52\u001b[0m             \u001b[38;5;28;01mcontinue\u001b[39;00m \u001b[38;5;66;03m#and then continues if valid\u001b[39;00m\n\u001b[1;32m     53\u001b[0m \u001b[38;5;28;01melse\u001b[39;00m:\n\u001b[0;32m---> 54\u001b[0m     \u001b[38;5;28;01mraise\u001b[39;00m \u001b[38;5;167;01mException\u001b[39;00m(\u001b[38;5;124m\"\u001b[39m\u001b[38;5;124mNothing to save, because the data parameter is empty\u001b[39m\u001b[38;5;124m\"\u001b[39m)\n\u001b[1;32m     55\u001b[0m     \u001b[38;5;28;01mreturn\u001b[39;00m \u001b[38;5;28;01mFalse\u001b[39;00m\n\u001b[1;32m     56\u001b[0m \u001b[38;5;28;01mreturn\u001b[39;00m \u001b[38;5;28;01mTrue\u001b[39;00m\n",
      "\u001b[0;31mException\u001b[0m: Nothing to save, because the data parameter is empty"
     ]
    }
   ],
   "source": [
    "empty_data= []  #try creating an empty entry\n",
    "print(shelter.create(empty_data))"
   ]
  },
  {
   "cell_type": "code",
   "execution_count": 6,
   "id": "2423da08",
   "metadata": {},
   "outputs": [],
   "source": [
    "#Read Test"
   ]
  },
  {
   "cell_type": "code",
   "execution_count": 7,
   "id": "247e5803",
   "metadata": {},
   "outputs": [
    {
     "name": "stdout",
     "output_type": "stream",
     "text": [
      "[{'_id': ObjectId('67ae2028931bfdf56c4a1785'), 'name': 'Max', 'animal_id': 'Test', 'animal_breed': 'Dog', 'sex': 'Intact Male', 'color': 'Brown', 'rec_num': 24}]\n"
     ]
    }
   ],
   "source": [
    "searchData = shelter.read({\"animal_id\": \"Test\"}) #reads the entry that matches the given parameter"
   ]
  },
  {
   "cell_type": "code",
   "execution_count": 8,
   "id": "390adc3e",
   "metadata": {},
   "outputs": [
    {
     "name": "stderr",
     "output_type": "stream",
     "text": [
      "IOPub data rate exceeded.\n",
      "The notebook server will temporarily stop sending output\n",
      "to the client in order to avoid crashing it.\n",
      "To change this limit, set the config variable\n",
      "`--NotebookApp.iopub_data_rate_limit`.\n",
      "\n",
      "Current values:\n",
      "NotebookApp.iopub_data_rate_limit=1000000.0 (bytes/sec)\n",
      "NotebookApp.rate_limit_window=3.0 (secs)\n",
      "\n"
     ]
    }
   ],
   "source": [
    "empty_search = {}  #searches for an empty parameter, meaning it will return the entire list\n",
    "print(shelter.read(empty_search))"
   ]
  },
  {
   "cell_type": "code",
   "execution_count": 9,
   "id": "f6da9c9a",
   "metadata": {},
   "outputs": [],
   "source": [
    "#Update Test"
   ]
  },
  {
   "cell_type": "code",
   "execution_count": 10,
   "id": "d933d3d3",
   "metadata": {},
   "outputs": [
    {
     "name": "stdout",
     "output_type": "stream",
     "text": [
      "Existing Records before update:\n",
      "[{'_id': ObjectId('67ae2028931bfdf56c4a1785'), 'name': 'Max', 'animal_id': 'Test', 'animal_breed': 'Dog', 'sex': 'Intact Male', 'color': 'Brown', 'rec_num': 24}]\n",
      "Updated Data Entry: {'n': 103, 'nModified': 1, 'ok': 1.0, 'updatedExisting': True}\n"
     ]
    }
   ],
   "source": [
    "print(\"Existing Records before update:\") #shows preexisting data entries before update\n",
    "existing_data = shelter.read({\"animal_id\": \"Test\"})\n",
    "updateData = shelter.update({\"name\": \"Max\"}, {\"color\": \"Light Brown\"})"
   ]
  },
  {
   "cell_type": "code",
   "execution_count": 11,
   "id": "967f1f79",
   "metadata": {},
   "outputs": [
    {
     "name": "stdout",
     "output_type": "stream",
     "text": [
      "[{'_id': ObjectId('67ae2028931bfdf56c4a1785'), 'name': 'Max', 'animal_id': 'Test', 'animal_breed': 'Dog', 'sex': 'Intact Male', 'color': 'Light Brown', 'rec_num': 24}]\n"
     ]
    }
   ],
   "source": [
    "searchData = shelter.read({\"animal_id\": \"Test\"}) #used to show that the data above has successfully updated the entry"
   ]
  },
  {
   "cell_type": "code",
   "execution_count": 12,
   "id": "d933a389",
   "metadata": {},
   "outputs": [],
   "source": [
    "#Delete Test"
   ]
  },
  {
   "cell_type": "code",
   "execution_count": 17,
   "id": "a30340bb",
   "metadata": {},
   "outputs": [
    {
     "name": "stdout",
     "output_type": "stream",
     "text": [
      "Existing Records before deletion:\n",
      "[{'_id': ObjectId('67ae2028931bfdf56c4a1785'), 'name': 'Max', 'animal_id': 'Test', 'animal_breed': 'Dog', 'sex': 'Intact Male', 'color': 'Light Brown', 'rec_num': 24}]\n",
      "Deleted Data Entries: {'n': 1, 'ok': 1.0}\n"
     ]
    }
   ],
   "source": [
    "print(\"Existing Records before deletion:\") #shows preexisting data entries before deletion\n",
    "existing_data = shelter.read({\"animal_id\": \"Test\"}) \n",
    "deleteData = shelter.delete({\"animal_id\": \"Test\"})"
   ]
  },
  {
   "cell_type": "code",
   "execution_count": 18,
   "id": "691d9fd4",
   "metadata": {},
   "outputs": [
    {
     "name": "stdout",
     "output_type": "stream",
     "text": [
      "[]\n"
     ]
    }
   ],
   "source": [
    "deleted_entry = shelter.read({\"animal_id\": \"Test\"}) #No entry can be found for the deleted query"
   ]
  },
  {
   "cell_type": "code",
   "execution_count": null,
   "id": "d11373c7",
   "metadata": {},
   "outputs": [],
   "source": []
  }
 ],
 "metadata": {
  "kernelspec": {
   "display_name": "Python 3 (ipykernel)",
   "language": "python",
   "name": "python3"
  },
  "language_info": {
   "codemirror_mode": {
    "name": "ipython",
    "version": 3
   },
   "file_extension": ".py",
   "mimetype": "text/x-python",
   "name": "python",
   "nbconvert_exporter": "python",
   "pygments_lexer": "ipython3",
   "version": "3.9.12"
  }
 },
 "nbformat": 4,
 "nbformat_minor": 5
}
